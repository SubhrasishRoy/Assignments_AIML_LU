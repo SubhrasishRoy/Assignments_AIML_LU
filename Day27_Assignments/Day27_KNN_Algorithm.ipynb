{
 "cells": [
  {
   "cell_type": "code",
   "execution_count": 13,
   "metadata": {},
   "outputs": [],
   "source": [
    "import pandas as pd\n",
    "from sklearn import preprocessing\n",
    "from sklearn import neighbors\n",
    "from sklearn.model_selection import train_test_split\n",
    "from sklearn.naive_bayes import GaussianNB\n",
    "from sklearn.metrics import accuracy_score\n",
    "from sklearn.metrics import confusion_matrix"
   ]
  },
  {
   "cell_type": "code",
   "execution_count": 2,
   "metadata": {},
   "outputs": [],
   "source": [
    "dataset = pd.read_csv(\"C:/LetsUpgrade_AI_ML/Day24/Data/train.csv\")"
   ]
  },
  {
   "cell_type": "code",
   "execution_count": 3,
   "metadata": {},
   "outputs": [
    {
     "data": {
      "text/plain": [
       "Index(['PassengerId', 'Survived', 'Pclass', 'Name', 'Sex', 'Age', 'SibSp',\n",
       "       'Parch', 'Ticket', 'Fare', 'Cabin', 'Embarked'],\n",
       "      dtype='object')"
      ]
     },
     "execution_count": 3,
     "metadata": {},
     "output_type": "execute_result"
    }
   ],
   "source": [
    "dataset.columns"
   ]
  },
  {
   "cell_type": "code",
   "execution_count": 4,
   "metadata": {},
   "outputs": [],
   "source": [
    "dataset1=dataset.dropna()\n",
    "dataset2=dataset1.drop_duplicates()\n",
    "dataset3=dataset2.drop([\"Name\",\"Ticket\",\"Cabin\"],axis=1)"
   ]
  },
  {
   "cell_type": "code",
   "execution_count": 5,
   "metadata": {},
   "outputs": [
    {
     "data": {
      "text/plain": [
       "Index(['PassengerId', 'Survived', 'Pclass', 'Sex', 'Age', 'SibSp', 'Parch',\n",
       "       'Fare', 'Embarked'],\n",
       "      dtype='object')"
      ]
     },
     "execution_count": 5,
     "metadata": {},
     "output_type": "execute_result"
    }
   ],
   "source": [
    "dataset3.columns"
   ]
  },
  {
   "cell_type": "code",
   "execution_count": 6,
   "metadata": {},
   "outputs": [],
   "source": [
    "le=preprocessing.LabelEncoder()\n",
    "#le.fit(dataset3[\"Sex\"])\n",
    "dataset3[\"Sex\"] = le.fit_transform(dataset3['Sex'])\n",
    "dataset3[\"Age\"] = le.fit_transform(dataset3[\"Age\"])\n",
    "dataset3[\"Fare\"] = le.fit_transform(dataset3[\"Fare\"])\n",
    "#le.fit(dataset3[\"Embarked\"])\n",
    "dataset3[\"Embarked\"] = le.fit_transform(dataset3[\"Embarked\"])\n"
   ]
  },
  {
   "cell_type": "code",
   "execution_count": 7,
   "metadata": {},
   "outputs": [
    {
     "data": {
      "text/html": [
       "<div>\n",
       "<style scoped>\n",
       "    .dataframe tbody tr th:only-of-type {\n",
       "        vertical-align: middle;\n",
       "    }\n",
       "\n",
       "    .dataframe tbody tr th {\n",
       "        vertical-align: top;\n",
       "    }\n",
       "\n",
       "    .dataframe thead th {\n",
       "        text-align: right;\n",
       "    }\n",
       "</style>\n",
       "<table border=\"1\" class=\"dataframe\">\n",
       "  <thead>\n",
       "    <tr style=\"text-align: right;\">\n",
       "      <th></th>\n",
       "      <th>PassengerId</th>\n",
       "      <th>Survived</th>\n",
       "      <th>Pclass</th>\n",
       "      <th>Sex</th>\n",
       "      <th>Age</th>\n",
       "      <th>SibSp</th>\n",
       "      <th>Parch</th>\n",
       "      <th>Fare</th>\n",
       "      <th>Embarked</th>\n",
       "    </tr>\n",
       "  </thead>\n",
       "  <tbody>\n",
       "    <tr>\n",
       "      <th>1</th>\n",
       "      <td>2</td>\n",
       "      <td>1</td>\n",
       "      <td>1</td>\n",
       "      <td>0</td>\n",
       "      <td>32</td>\n",
       "      <td>1</td>\n",
       "      <td>0</td>\n",
       "      <td>62</td>\n",
       "      <td>0</td>\n",
       "    </tr>\n",
       "    <tr>\n",
       "      <th>3</th>\n",
       "      <td>4</td>\n",
       "      <td>1</td>\n",
       "      <td>1</td>\n",
       "      <td>0</td>\n",
       "      <td>28</td>\n",
       "      <td>1</td>\n",
       "      <td>0</td>\n",
       "      <td>49</td>\n",
       "      <td>2</td>\n",
       "    </tr>\n",
       "    <tr>\n",
       "      <th>6</th>\n",
       "      <td>7</td>\n",
       "      <td>0</td>\n",
       "      <td>1</td>\n",
       "      <td>1</td>\n",
       "      <td>49</td>\n",
       "      <td>0</td>\n",
       "      <td>0</td>\n",
       "      <td>46</td>\n",
       "      <td>2</td>\n",
       "    </tr>\n",
       "    <tr>\n",
       "      <th>10</th>\n",
       "      <td>11</td>\n",
       "      <td>1</td>\n",
       "      <td>3</td>\n",
       "      <td>0</td>\n",
       "      <td>4</td>\n",
       "      <td>1</td>\n",
       "      <td>1</td>\n",
       "      <td>12</td>\n",
       "      <td>2</td>\n",
       "    </tr>\n",
       "    <tr>\n",
       "      <th>11</th>\n",
       "      <td>12</td>\n",
       "      <td>1</td>\n",
       "      <td>1</td>\n",
       "      <td>0</td>\n",
       "      <td>53</td>\n",
       "      <td>0</td>\n",
       "      <td>0</td>\n",
       "      <td>20</td>\n",
       "      <td>2</td>\n",
       "    </tr>\n",
       "  </tbody>\n",
       "</table>\n",
       "</div>"
      ],
      "text/plain": [
       "    PassengerId  Survived  Pclass  Sex  Age  SibSp  Parch  Fare  Embarked\n",
       "1             2         1       1    0   32      1      0    62         0\n",
       "3             4         1       1    0   28      1      0    49         2\n",
       "6             7         0       1    1   49      0      0    46         2\n",
       "10           11         1       3    0    4      1      1    12         2\n",
       "11           12         1       1    0   53      0      0    20         2"
      ]
     },
     "execution_count": 7,
     "metadata": {},
     "output_type": "execute_result"
    }
   ],
   "source": [
    "dataset3.head()"
   ]
  },
  {
   "cell_type": "code",
   "execution_count": 9,
   "metadata": {},
   "outputs": [],
   "source": [
    "y=dataset3[\"Survived\"]\n",
    "x=dataset3.drop([\"Survived\"],axis=1)"
   ]
  },
  {
   "cell_type": "code",
   "execution_count": 10,
   "metadata": {},
   "outputs": [
    {
     "data": {
      "text/plain": [
       "PassengerId    202\n",
       "Pclass         202\n",
       "Sex            202\n",
       "Age            202\n",
       "SibSp          202\n",
       "Parch          202\n",
       "Fare           202\n",
       "Embarked       202\n",
       "dtype: int64"
      ]
     },
     "execution_count": 10,
     "metadata": {},
     "output_type": "execute_result"
    }
   ],
   "source": [
    "x.count()"
   ]
  },
  {
   "cell_type": "code",
   "execution_count": 11,
   "metadata": {},
   "outputs": [],
   "source": [
    "x_train,x_test,y_train,y_test = train_test_split (x,y,test_size=0.3,random_state=0)"
   ]
  },
  {
   "cell_type": "code",
   "execution_count": 14,
   "metadata": {},
   "outputs": [],
   "source": [
    "knn=neighbors.KNeighborsClassifier(n_neighbors=3)"
   ]
  },
  {
   "cell_type": "code",
   "execution_count": 15,
   "metadata": {},
   "outputs": [
    {
     "data": {
      "text/plain": [
       "0.5409836065573771"
      ]
     },
     "execution_count": 15,
     "metadata": {},
     "output_type": "execute_result"
    }
   ],
   "source": [
    "knn.fit(x_train,y_train).score(x_test,y_test)"
   ]
  },
  {
   "cell_type": "code",
   "execution_count": 16,
   "metadata": {},
   "outputs": [],
   "source": [
    "y_pred=knn.predict(x_test)"
   ]
  },
  {
   "cell_type": "code",
   "execution_count": 17,
   "metadata": {},
   "outputs": [
    {
     "data": {
      "text/plain": [
       "array([[ 7, 16],\n",
       "       [12, 26]], dtype=int64)"
      ]
     },
     "execution_count": 17,
     "metadata": {},
     "output_type": "execute_result"
    }
   ],
   "source": [
    "confusion_matrix(y_test,y_pred)"
   ]
  },
  {
   "cell_type": "code",
   "execution_count": 19,
   "metadata": {},
   "outputs": [
    {
     "name": "stdout",
     "output_type": "stream",
     "text": [
      "Please provide Dependent Variable Pclass\n",
      "Accuracy Score  =  0.9672131147540983  K - Value =  1\n",
      "Accuracy Score  =  0.9672131147540983  K - Value =  2\n",
      "Accuracy Score  =  0.9508196721311475  K - Value =  3\n",
      "Accuracy Score  =  0.9672131147540983  K - Value =  4\n",
      "Accuracy Score  =  0.9672131147540983  K - Value =  5\n",
      "Accuracy Score  =  0.9672131147540983  K - Value =  6\n",
      "Accuracy Score  =  0.9508196721311475  K - Value =  7\n",
      "Accuracy Score  =  0.9508196721311475  K - Value =  8\n",
      "Accuracy Score  =  0.9508196721311475  K - Value =  9\n",
      "Accuracy Score  =  0.9180327868852459  K - Value =  10\n",
      "Accuracy Score  =  0.9180327868852459  K - Value =  11\n",
      "Accuracy Score  =  0.9344262295081968  K - Value =  12\n",
      "Accuracy Score  =  0.9180327868852459  K - Value =  13\n",
      "Accuracy Score  =  0.9016393442622951  K - Value =  14\n",
      "Accuracy Score  =  0.9180327868852459  K - Value =  15\n",
      "Accuracy Score  =  0.9016393442622951  K - Value =  16\n",
      "Accuracy Score  =  0.9016393442622951  K - Value =  17\n",
      "Accuracy Score  =  0.9016393442622951  K - Value =  18\n",
      "Accuracy Score  =  0.9016393442622951  K - Value =  19\n",
      "Accuracy Score  =  0.9016393442622951  K - Value =  20\n",
      "Accuracy Score  =  0.9016393442622951  K - Value =  21\n",
      "Accuracy Score  =  0.9016393442622951  K - Value =  22\n",
      "Accuracy Score  =  0.9016393442622951  K - Value =  23\n",
      "Accuracy Score  =  0.9016393442622951  K - Value =  24\n",
      "Accuracy Score  =  0.9016393442622951  K - Value =  25\n",
      "Accuracy Score  =  0.9016393442622951  K - Value =  26\n",
      "Accuracy Score  =  0.9016393442622951  K - Value =  27\n",
      "Accuracy Score  =  0.9016393442622951  K - Value =  28\n",
      "Accuracy Score  =  0.9016393442622951  K - Value =  29\n",
      "Accuracy Score  =  0.9016393442622951  K - Value =  30\n",
      "Accuracy Score  =  0.9016393442622951  K - Value =  31\n",
      "Accuracy Score  =  0.9016393442622951  K - Value =  32\n",
      "Accuracy Score  =  0.9016393442622951  K - Value =  33\n",
      "Accuracy Score  =  0.9016393442622951  K - Value =  34\n",
      "Accuracy Score  =  0.9016393442622951  K - Value =  35\n",
      "Accuracy Score  =  0.9016393442622951  K - Value =  36\n",
      "Accuracy Score  =  0.9016393442622951  K - Value =  37\n",
      "Accuracy Score  =  0.9016393442622951  K - Value =  38\n",
      "Accuracy Score  =  0.9016393442622951  K - Value =  39\n",
      "Accuracy Score  =  0.9016393442622951  K - Value =  40\n",
      "Accuracy Score  =  0.9016393442622951  K - Value =  41\n",
      "Accuracy Score  =  0.9016393442622951  K - Value =  42\n",
      "Accuracy Score  =  0.9016393442622951  K - Value =  43\n",
      "Accuracy Score  =  0.9016393442622951  K - Value =  44\n",
      "Accuracy Score  =  0.9016393442622951  K - Value =  45\n",
      "Accuracy Score  =  0.9016393442622951  K - Value =  46\n",
      "Accuracy Score  =  0.9016393442622951  K - Value =  47\n",
      "Accuracy Score  =  0.9016393442622951  K - Value =  48\n",
      "Accuracy Score  =  0.9016393442622951  K - Value =  49\n",
      "Accuracy Score  =  0.9016393442622951  K - Value =  50\n",
      "Accuracy Score  =  0.9016393442622951  K - Value =  51\n",
      "Accuracy Score  =  0.9016393442622951  K - Value =  52\n",
      "Accuracy Score  =  0.9016393442622951  K - Value =  53\n",
      "Accuracy Score  =  0.9016393442622951  K - Value =  54\n",
      "Accuracy Score  =  0.9016393442622951  K - Value =  55\n",
      "Accuracy Score  =  0.9016393442622951  K - Value =  56\n",
      "Accuracy Score  =  0.9016393442622951  K - Value =  57\n",
      "Accuracy Score  =  0.9016393442622951  K - Value =  58\n",
      "Accuracy Score  =  0.9016393442622951  K - Value =  59\n",
      "Accuracy Score  =  0.9016393442622951  K - Value =  60\n"
     ]
    }
   ],
   "source": [
    "def KNN_Loop(strDV):\n",
    "    if (strDV in dataset3.columns ) :\n",
    "        y = dataset3[strDV]\n",
    "        x= dataset3.drop([strDV,\"PassengerId\"],axis = 1)\n",
    "        x_train,x_test,y_train,y_test = train_test_split(x,y,test_size=0.3,random_state=0) \n",
    "        intCnt = len(x_test)\n",
    "        \n",
    "        for i in range (1,intCnt):\n",
    "            knn=neighbors.KNeighborsClassifier(n_neighbors=i)\n",
    "            print (\"Accuracy Score  = \",knn.fit(x_train,y_train).score(x_test,y_test),\" K - Value = \",i)\n",
    "    else :\n",
    "        print (strDV , \" is not present in the Dataset\")\n",
    "    \n",
    "    \n",
    "    \n",
    "strDV = input ('Please provide Dependent Variable ')\n",
    "#print ( strDV )\n",
    "KNN_Loop(strDV)"
   ]
  },
  {
   "cell_type": "code",
   "execution_count": null,
   "metadata": {},
   "outputs": [],
   "source": []
  }
 ],
 "metadata": {
  "kernelspec": {
   "display_name": "Python 3",
   "language": "python",
   "name": "python3"
  },
  "language_info": {
   "codemirror_mode": {
    "name": "ipython",
    "version": 3
   },
   "file_extension": ".py",
   "mimetype": "text/x-python",
   "name": "python",
   "nbconvert_exporter": "python",
   "pygments_lexer": "ipython3",
   "version": "3.7.6"
  }
 },
 "nbformat": 4,
 "nbformat_minor": 4
}
